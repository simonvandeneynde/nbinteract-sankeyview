{
 "cells": [
  {
   "cell_type": "code",
   "execution_count": 1,
   "metadata": {},
   "outputs": [],
   "source": [
    "from __future__ import print_function"
   ]
  },
  {
   "cell_type": "code",
   "execution_count": 2,
   "metadata": {},
   "outputs": [],
   "source": [
    "from ipywidgets import interact, interactive, fixed, interact_manual\n",
    "import ipywidgets as widgets\n",
    "import numpy as np\n",
    "import matplotlib.pyplot as plt\n",
    "from matplotlib.widgets import Slider, Button, RadioButtons\n",
    "\n",
    "from IPython.display import clear_output"
   ]
  },
  {
   "cell_type": "code",
   "execution_count": 3,
   "metadata": {},
   "outputs": [],
   "source": [
    "from floweaver import *"
   ]
  },
  {
   "cell_type": "code",
   "execution_count": 4,
   "metadata": {},
   "outputs": [],
   "source": [
    "dataset = Dataset.from_csv(r'C:\\Users\\Simon\\PycharmProjects\\untitled\\aluminum_sankey_time1.csv')"
   ]
  },
  {
   "cell_type": "code",
   "execution_count": 5,
   "metadata": {},
   "outputs": [
    {
     "data": {
      "text/html": [
       "<div>\n",
       "<style scoped>\n",
       "    .dataframe tbody tr th:only-of-type {\n",
       "        vertical-align: middle;\n",
       "    }\n",
       "\n",
       "    .dataframe tbody tr th {\n",
       "        vertical-align: top;\n",
       "    }\n",
       "\n",
       "    .dataframe thead th {\n",
       "        text-align: right;\n",
       "    }\n",
       "</style>\n",
       "<table border=\"1\" class=\"dataframe\">\n",
       "  <thead>\n",
       "    <tr style=\"text-align: right;\">\n",
       "      <th></th>\n",
       "      <th>source</th>\n",
       "      <th>target</th>\n",
       "      <th>series</th>\n",
       "      <th>value year0</th>\n",
       "      <th>value year1</th>\n",
       "    </tr>\n",
       "  </thead>\n",
       "  <tbody>\n",
       "    <tr>\n",
       "      <th>0</th>\n",
       "      <td>primary1</td>\n",
       "      <td>1000a</td>\n",
       "      <td>1000</td>\n",
       "      <td>1</td>\n",
       "      <td>2</td>\n",
       "    </tr>\n",
       "    <tr>\n",
       "      <th>1</th>\n",
       "      <td>1000a</td>\n",
       "      <td>building1</td>\n",
       "      <td>1000</td>\n",
       "      <td>1</td>\n",
       "      <td>2</td>\n",
       "    </tr>\n",
       "    <tr>\n",
       "      <th>2</th>\n",
       "      <td>primary2</td>\n",
       "      <td>1000b</td>\n",
       "      <td>1000</td>\n",
       "      <td>1</td>\n",
       "      <td>2</td>\n",
       "    </tr>\n",
       "    <tr>\n",
       "      <th>3</th>\n",
       "      <td>1000b</td>\n",
       "      <td>building2</td>\n",
       "      <td>1000</td>\n",
       "      <td>1</td>\n",
       "      <td>2</td>\n",
       "    </tr>\n",
       "    <tr>\n",
       "      <th>4</th>\n",
       "      <td>building2</td>\n",
       "      <td>collected1</td>\n",
       "      <td>1000</td>\n",
       "      <td>1</td>\n",
       "      <td>2</td>\n",
       "    </tr>\n",
       "  </tbody>\n",
       "</table>\n",
       "</div>"
      ],
      "text/plain": [
       "      source      target  series  value year0  value year1\n",
       "0   primary1       1000a    1000            1            2\n",
       "1      1000a   building1    1000            1            2\n",
       "2   primary2       1000b    1000            1            2\n",
       "3      1000b   building2    1000            1            2\n",
       "4  building2  collected1    1000            1            2"
      ]
     },
     "execution_count": 5,
     "metadata": {},
     "output_type": "execute_result"
    }
   ],
   "source": [
    "dataset._flows.head()"
   ]
  },
  {
   "cell_type": "code",
   "execution_count": 6,
   "metadata": {},
   "outputs": [],
   "source": [
    "nodes = {\n",
    "    'primary': ProcessGroup(['primary1','primary2','primary3','primary4','primary5','primary6','primary7','primary8']),\n",
    "    'recycled': ProcessGroup(['recycled1','recycled2','recycled3','recycled4','recycled5','recycled6','recycled7','recycled8']),\n",
    "    \n",
    "    #'in use': ProcessGroup(['in use1','in use2','in use3','in use4']),\n",
    "    'collected': ProcessGroup(['collected1','collected2','collected3','collected4','collected5','collected6','collected7','collected8']),\n",
    "    'not collected': ProcessGroup(['not collected1','not collected2','not collected3','not collected4']),\n",
    "    \n",
    "    '1000': ProcessGroup(['1000a','1000b','1000c','1000d','1000e','1000f','1000g','1000h']),\n",
    "    '2000': ProcessGroup(['2000a','2000b','2000c','2000d','2000e','2000f','2000g','2000h']),\n",
    "    \n",
    "    'building': ProcessGroup(['building1','building2','building3','building4','building5','building6','building7','building8']),\n",
    "    'auto': ProcessGroup(['auto1','auto2','auto3','auto4','auto5','auto6','auto7','auto8']),\n",
    "    \n",
    "    #'series': Waypoint(partition_series, title='series'),\n",
    "    'w1': Waypoint(direction='L', title=''),\n",
    "    'w2': Waypoint(direction='L', title=''),\n",
    "    #'sector': Waypoint(partition_sector, title='sector'),\n",
    "}"
   ]
  },
  {
   "cell_type": "code",
   "execution_count": 7,
   "metadata": {},
   "outputs": [],
   "source": [
    "ordering = [\n",
    "    [['primary', 'recycled'], []],\n",
    "    [['1000','2000'], ['w2']],\n",
    "    [['building','auto'], []],\n",
    "    [['not collected', 'collected'], ['w1']],\n",
    "]"
   ]
  },
  {
   "cell_type": "code",
   "execution_count": 8,
   "metadata": {},
   "outputs": [],
   "source": [
    "bundles = [\n",
    "    Bundle('primary', '1000'),\n",
    "    Bundle('primary', '2000'),\n",
    "    Bundle('recycled', '1000'),\n",
    "    Bundle('recycled', '2000'),\n",
    "    Bundle('1000', 'building'),\n",
    "    Bundle('1000', 'auto'),\n",
    "    Bundle('2000', 'building'),\n",
    "    Bundle('2000', 'auto'),\n",
    "    #Bundle('building', 'in use'),\n",
    "    Bundle('building', 'collected'),\n",
    "    Bundle('auto', 'not collected'),\n",
    "    Bundle('auto', 'collected'),\n",
    "    #Bundle('primary', 'in use', waypoints=['series','sector']),\n",
    "    #Bundle('primary', 'not collected',waypoints=['series','sector']),\n",
    "    #Bundle('primary', 'collected',waypoints=['series','sector']),\n",
    "    #Bundle('recycled', 'in use', waypoints=['series','sector']),\n",
    "    #Bundle('recycled', 'not collected',waypoints=['series','sector']),\n",
    "    #Bundle('recycled', 'collected',waypoints=['series','sector']),\n",
    "    Bundle('collected', 'recycled', waypoints=['w1', 'w2']),\n",
    "]"
   ]
  },
  {
   "cell_type": "code",
   "execution_count": 9,
   "metadata": {},
   "outputs": [
    {
     "data": {
      "application/vnd.jupyter.widget-view+json": {
       "model_id": "e939310e89e447daa2317484b5bea558",
       "version_major": 2,
       "version_minor": 0
      },
      "text/plain": [
       "IntSlider(value=0, max=1)"
      ]
     },
     "metadata": {},
     "output_type": "display_data"
    },
    {
     "data": {
      "application/vnd.jupyter.widget-view+json": {
       "model_id": "dba073948a9040fda0ca844ecda2d9c9",
       "version_major": 2,
       "version_minor": 0
      },
      "text/plain": [
       "Output()"
      ]
     },
     "metadata": {},
     "output_type": "display_data"
    }
   ],
   "source": [
    "series_partition = Partition.Simple('series', ['1000','2000'])\n",
    "palette = {'1000': 'yellowgreen', '2000': 'gold'}\n",
    "\n",
    "sdd = SankeyDefinition(nodes, bundles, ordering, flow_partition=series_partition)\n",
    "\n",
    "int_range = widgets.IntSlider(value=0,min=0,max=1,step=1)\n",
    "output2 = widgets.Output()\n",
    "\n",
    "display(int_range, output2)\n",
    "\n",
    "def on_value_change(x):\n",
    "    with output2:\n",
    "        number = x['new']\n",
    "        clear_output()\n",
    "        p = weave(sdd, dataset, measures='value year{}'.format(number), palette=palette).to_widget(width=570, height=550, margins=dict(left=100, right=100))\n",
    "        display(p)\n",
    "        \n",
    "int_range.observe(on_value_change, 'value')"
   ]
  },
  {
   "cell_type": "code",
   "execution_count": null,
   "metadata": {},
   "outputs": [],
   "source": []
  }
 ],
 "metadata": {
  "kernelspec": {
   "display_name": "Python 3",
   "language": "python",
   "name": "python3"
  },
  "language_info": {
   "codemirror_mode": {
    "name": "ipython",
    "version": 3
   },
   "file_extension": ".py",
   "mimetype": "text/x-python",
   "name": "python",
   "nbconvert_exporter": "python",
   "pygments_lexer": "ipython3",
   "version": "3.7.3"
  }
 },
 "nbformat": 4,
 "nbformat_minor": 2
}
