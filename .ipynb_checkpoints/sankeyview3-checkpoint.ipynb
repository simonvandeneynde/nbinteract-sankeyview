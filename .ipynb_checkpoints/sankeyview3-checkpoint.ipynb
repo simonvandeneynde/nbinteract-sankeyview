{
 "cells": [
  {
   "cell_type": "code",
   "execution_count": 52,
   "metadata": {},
   "outputs": [],
   "source": [
    "from __future__ import print_function"
   ]
  },
  {
   "cell_type": "code",
   "execution_count": 53,
   "metadata": {},
   "outputs": [],
   "source": [
    "from ipywidgets import interact, interactive, fixed, interact_manual\n",
    "import ipywidgets as widgets\n",
    "import numpy as np\n",
    "import matplotlib.pyplot as plt\n",
    "from matplotlib.widgets import Slider, Button, RadioButtons\n",
    "\n",
    "from IPython.display import clear_output"
   ]
  },
  {
   "cell_type": "code",
   "execution_count": 54,
   "metadata": {},
   "outputs": [],
   "source": [
    "from floweaver import *"
   ]
  },
  {
   "cell_type": "code",
   "execution_count": 71,
   "metadata": {},
   "outputs": [],
   "source": [
    "import attr"
   ]
  },
  {
   "cell_type": "code",
   "execution_count": 55,
   "metadata": {},
   "outputs": [],
   "source": [
    "dataset = Dataset.from_csv(r'C:\\Users\\Simon\\PycharmProjects\\untitled\\aluminum_sankey_time1.csv')"
   ]
  },
  {
   "cell_type": "code",
   "execution_count": 56,
   "metadata": {},
   "outputs": [
    {
     "data": {
      "text/html": [
       "<div>\n",
       "<style scoped>\n",
       "    .dataframe tbody tr th:only-of-type {\n",
       "        vertical-align: middle;\n",
       "    }\n",
       "\n",
       "    .dataframe tbody tr th {\n",
       "        vertical-align: top;\n",
       "    }\n",
       "\n",
       "    .dataframe thead th {\n",
       "        text-align: right;\n",
       "    }\n",
       "</style>\n",
       "<table border=\"1\" class=\"dataframe\">\n",
       "  <thead>\n",
       "    <tr style=\"text-align: right;\">\n",
       "      <th></th>\n",
       "      <th>source</th>\n",
       "      <th>target</th>\n",
       "      <th>series</th>\n",
       "      <th>value year0</th>\n",
       "      <th>value year1</th>\n",
       "    </tr>\n",
       "  </thead>\n",
       "  <tbody>\n",
       "    <tr>\n",
       "      <th>0</th>\n",
       "      <td>primary1</td>\n",
       "      <td>1000a</td>\n",
       "      <td>1000</td>\n",
       "      <td>1</td>\n",
       "      <td>2</td>\n",
       "    </tr>\n",
       "    <tr>\n",
       "      <th>1</th>\n",
       "      <td>1000a</td>\n",
       "      <td>building1</td>\n",
       "      <td>1000</td>\n",
       "      <td>1</td>\n",
       "      <td>2</td>\n",
       "    </tr>\n",
       "    <tr>\n",
       "      <th>2</th>\n",
       "      <td>primary2</td>\n",
       "      <td>1000b</td>\n",
       "      <td>1000</td>\n",
       "      <td>1</td>\n",
       "      <td>2</td>\n",
       "    </tr>\n",
       "    <tr>\n",
       "      <th>3</th>\n",
       "      <td>1000b</td>\n",
       "      <td>building2</td>\n",
       "      <td>1000</td>\n",
       "      <td>1</td>\n",
       "      <td>2</td>\n",
       "    </tr>\n",
       "    <tr>\n",
       "      <th>4</th>\n",
       "      <td>building2</td>\n",
       "      <td>collected1</td>\n",
       "      <td>1000</td>\n",
       "      <td>1</td>\n",
       "      <td>2</td>\n",
       "    </tr>\n",
       "  </tbody>\n",
       "</table>\n",
       "</div>"
      ],
      "text/plain": [
       "      source      target  series  value year0  value year1\n",
       "0   primary1       1000a    1000            1            2\n",
       "1      1000a   building1    1000            1            2\n",
       "2   primary2       1000b    1000            1            2\n",
       "3      1000b   building2    1000            1            2\n",
       "4  building2  collected1    1000            1            2"
      ]
     },
     "execution_count": 56,
     "metadata": {},
     "output_type": "execute_result"
    }
   ],
   "source": [
    "dataset._flows.head()"
   ]
  },
  {
   "cell_type": "code",
   "execution_count": 57,
   "metadata": {},
   "outputs": [],
   "source": [
    "nodes = {\n",
    "    'primary': ProcessGroup(['primary1','primary2','primary3','primary4','primary5','primary6','primary7','primary8']),\n",
    "    'recycled': ProcessGroup(['recycled1','recycled2','recycled3','recycled4','recycled5','recycled6','recycled7','recycled8']),\n",
    "    \n",
    "    #'in use': ProcessGroup(['in use1','in use2','in use3','in use4']),\n",
    "    'collected': ProcessGroup(['collected1','collected2','collected3','collected4','collected5','collected6','collected7','collected8']),\n",
    "    'not collected': ProcessGroup(['not collected1','not collected2','not collected3','not collected4']),\n",
    "    \n",
    "    '1000': ProcessGroup(['1000a','1000b','1000c','1000d','1000e','1000f','1000g','1000h']),\n",
    "    '2000': ProcessGroup(['2000a','2000b','2000c','2000d','2000e','2000f','2000g','2000h']),\n",
    "    \n",
    "    'building': ProcessGroup(['building1','building2','building3','building4','building5','building6','building7','building8']),\n",
    "    'auto': ProcessGroup(['auto1','auto2','auto3','auto4','auto5','auto6','auto7','auto8']),\n",
    "    \n",
    "    #'series': Waypoint(partition_series, title='series'),\n",
    "    'w1': Waypoint(direction='L', title=''),\n",
    "    'w2': Waypoint(direction='L', title=''),\n",
    "    #'sector': Waypoint(partition_sector, title='sector'),\n",
    "}"
   ]
  },
  {
   "cell_type": "code",
   "execution_count": 58,
   "metadata": {},
   "outputs": [],
   "source": [
    "ordering = [\n",
    "    [['primary', 'recycled'], []],\n",
    "    [['1000','2000'], ['w2']],\n",
    "    [['building','auto'], []],\n",
    "    [['not collected', 'collected'], ['w1']],\n",
    "]"
   ]
  },
  {
   "cell_type": "code",
   "execution_count": 59,
   "metadata": {},
   "outputs": [],
   "source": [
    "bundles = [\n",
    "    Bundle('primary', '1000'),\n",
    "    Bundle('primary', '2000'),\n",
    "    Bundle('recycled', '1000'),\n",
    "    Bundle('recycled', '2000'),\n",
    "    Bundle('1000', 'building'),\n",
    "    Bundle('1000', 'auto'),\n",
    "    Bundle('2000', 'building'),\n",
    "    Bundle('2000', 'auto'),\n",
    "    #Bundle('building', 'in use'),\n",
    "    Bundle('building', 'collected'),\n",
    "    Bundle('auto', 'not collected'),\n",
    "    Bundle('auto', 'collected'),\n",
    "    #Bundle('primary', 'in use', waypoints=['series','sector']),\n",
    "    #Bundle('primary', 'not collected',waypoints=['series','sector']),\n",
    "    #Bundle('primary', 'collected',waypoints=['series','sector']),\n",
    "    #Bundle('recycled', 'in use', waypoints=['series','sector']),\n",
    "    #Bundle('recycled', 'not collected',waypoints=['series','sector']),\n",
    "    #Bundle('recycled', 'collected',waypoints=['series','sector']),\n",
    "    Bundle('collected', 'recycled', waypoints=['w1', 'w2']),\n",
    "]"
   ]
  },
  {
   "cell_type": "code",
   "execution_count": 60,
   "metadata": {},
   "outputs": [],
   "source": [
    "def _convert_bundles_to_dict(bundles):\n",
    "    if not isinstance(bundles, dict):\n",
    "        bundles = {k: v for k, v in enumerate(bundles)}\n",
    "    return bundles"
   ]
  },
  {
   "cell_type": "code",
   "execution_count": 61,
   "metadata": {},
   "outputs": [],
   "source": [
    "def _convert_ordering(ordering):\n",
    "    if isinstance(ordering, Ordering):\n",
    "        return ordering\n",
    "    else:\n",
    "        return Ordering(ordering)"
   ]
  },
  {
   "cell_type": "code",
   "execution_count": 62,
   "metadata": {},
   "outputs": [],
   "source": [
    "def _validate_bundles(instance, attribute, bundles):\n",
    "    # Check bundles\n",
    "    for k, b in bundles.items():\n",
    "        if not b.from_elsewhere:\n",
    "            if b.source not in instance.nodes:\n",
    "                raise ValueError('Unknown source \"{}\" in bundle {}'.format(\n",
    "                    b.source, k))\n",
    "            if not isinstance(instance.nodes[b.source], ProcessGroup):\n",
    "                raise ValueError(\n",
    "                    'Source of bundle {} is not a process group'.format(k))\n",
    "        if not b.to_elsewhere:\n",
    "            if b.target not in instance.nodes:\n",
    "                raise ValueError('Unknown target \"{}\" in bundle {}'.format(\n",
    "                    b.target, k))\n",
    "            if not isinstance(instance.nodes[b.target], ProcessGroup):\n",
    "                raise ValueError(\n",
    "                    'Target of bundle {} is not a process group'.format(k))\n",
    "        for u in b.waypoints:\n",
    "            if u not in instance.nodes:\n",
    "                raise ValueError('Unknown waypoint \"{}\" in bundle {}'.format(\n",
    "                    u, k))\n",
    "            if not isinstance(instance.nodes[u], Waypoint):\n",
    "                raise ValueError(\n",
    "                    'Waypoint \"{}\" of bundle {} is not a waypoint'.format(u,\n",
    "                                                                          k))"
   ]
  },
  {
   "cell_type": "code",
   "execution_count": 63,
   "metadata": {},
   "outputs": [],
   "source": [
    "def _validate_ordering(instance, attribute, ordering):\n",
    "    for layer_bands in ordering.layers:\n",
    "        for band_nodes in layer_bands:\n",
    "            for u in band_nodes:\n",
    "                if u not in instance.nodes:\n",
    "                    raise ValueError('Unknown node \"{}\" in ordering'.format(u))"
   ]
  },
  {
   "cell_type": "code",
   "execution_count": 64,
   "metadata": {},
   "outputs": [
    {
     "name": "stderr",
     "output_type": "stream",
     "text": [
      "C:\\Users\\Simon\\Anaconda3\\lib\\site-packages\\ipykernel_launcher.py:5: DeprecationWarning: The `convert` argument is deprecated in favor of `converter`.  It will be removed after 2019/01.\n",
      "  \"\"\"\n",
      "C:\\Users\\Simon\\Anaconda3\\lib\\site-packages\\ipykernel_launcher.py:6: DeprecationWarning: The `convert` argument is deprecated in favor of `converter`.  It will be removed after 2019/01.\n",
      "  \n"
     ]
    }
   ],
   "source": [
    "@attr.s(slots=True, frozen=True)\n",
    "class SankeyDefinition(object):\n",
    "    nodes = attr.ib()\n",
    "    bundles = attr.ib(convert=_convert_bundles_to_dict,\n",
    "                      validator=_validate_bundles)\n",
    "    ordering = attr.ib(convert=_convert_ordering, validator=_validate_ordering)\n",
    "    flow_selection = attr.ib(default=None)\n",
    "    flow_partition = attr.ib(default=None)\n",
    "    time_partition = attr.ib(default=None)\n",
    "\n",
    "    def copy(self):\n",
    "        return self.__class__(self.nodes.copy(), self.bundles.copy(),\n",
    "                              self.ordering, self.flow_partition,\n",
    "                              self.flow_selection, self.time_partition)"
   ]
  },
  {
   "cell_type": "code",
   "execution_count": 65,
   "metadata": {},
   "outputs": [],
   "source": [
    "def _validate_direction(instance, attribute, value):\n",
    "    if value not in 'LR':\n",
    "        raise ValueError('direction must be L or R')"
   ]
  },
  {
   "cell_type": "code",
   "execution_count": 66,
   "metadata": {},
   "outputs": [],
   "source": [
    "@attr.s(slots=True)\n",
    "class ProcessGroup(object):\n",
    "    \"\"\"A ProcessGroup represents a group of processes from the underlying dataset.\n",
    "\n",
    "    The processes to include are defined by the `selection`. By default they\n",
    "    are all lumped into one node in the diagram, but by defining a `partition`\n",
    "    this can be controlled.\n",
    "\n",
    "    Attributes\n",
    "    ----------\n",
    "    selection : list or string\n",
    "        If a list of strings, they are taken as process ids.\n",
    "        If a single string, it is taken as a Pandas query string run against the\n",
    "        process table.\n",
    "    partition : Partition, optional\n",
    "        Defines how to split the ProcessGroup into subgroups.\n",
    "    direction : 'R' or 'L'\n",
    "        Direction of flow, default 'R' (left-to-right).\n",
    "    title : string, optional\n",
    "        Label for the ProcessGroup. If not set, the ProcessGroup id will be used.\n",
    "\n",
    "    \"\"\"\n",
    "    selection = attr.ib(default=None)\n",
    "    partition = attr.ib(default=None)\n",
    "    direction = attr.ib(validator=_validate_direction, default='R')\n",
    "    title = attr.ib(\n",
    "        default=None,\n",
    "        validator=attr.validators.optional(attr.validators.instance_of(str)))"
   ]
  },
  {
   "cell_type": "code",
   "execution_count": 67,
   "metadata": {},
   "outputs": [],
   "source": [
    "#Elsewhere = sentinel.create('Elsewhere')"
   ]
  },
  {
   "cell_type": "code",
   "execution_count": 68,
   "metadata": {},
   "outputs": [],
   "source": [
    "def _validate_flow_selection(instance, attribute, value):\n",
    "    if instance.source == instance.target and not value:\n",
    "        raise ValueError('flow_selection is required for bundle with same '\n",
    "                         'source and target')"
   ]
  },
  {
   "cell_type": "code",
   "execution_count": 69,
   "metadata": {},
   "outputs": [
    {
     "name": "stderr",
     "output_type": "stream",
     "text": [
      "C:\\Users\\Simon\\Anaconda3\\lib\\site-packages\\ipykernel_launcher.py:26: DeprecationWarning: The `convert` argument is deprecated in favor of `converter`.  It will be removed after 2019/01.\n"
     ]
    }
   ],
   "source": [
    "@attr.s(frozen=True, slots=True)\n",
    "class Bundle(object):\n",
    "    \"\"\"A Bundle represents a set of flows between two :class:`ProcessGroup`s.\n",
    "\n",
    "    Attributes\n",
    "    ----------\n",
    "    source : string\n",
    "        The id of the :class:`ProcessGroup` at the start of the Bundle.\n",
    "    target : string\n",
    "        The id of the :class:`ProcessGroup` at the end of the Bundle.\n",
    "    waypoints : list of strings\n",
    "        Optional list of ids of :class:`Waypoint`s the Bundle should pass through.\n",
    "    flow_selection : string, optional\n",
    "        Query string to filter the flows included in this Bundle.\n",
    "    flow_partition : Partition, optional\n",
    "        Defines how to split the flows in the Bundle into sub-flows. Often you want\n",
    "        the same Partition for all the Bundles in the diagram, see\n",
    "        :attr:`SankeyDefinition.flow_partition`.\n",
    "    default_partition : Partition, optional\n",
    "        Defines the Partition applied to any Waypoints automatically added to route\n",
    "        the Bundle across layers of the diagram.\n",
    "\n",
    "    \"\"\"\n",
    "    source = attr.ib()\n",
    "    target = attr.ib()\n",
    "    waypoints = attr.ib(default=attr.Factory(tuple), convert=tuple)\n",
    "    flow_selection = attr.ib(default=None, validator=_validate_flow_selection)\n",
    "    flow_partition = attr.ib(default=None)\n",
    "    default_partition = attr.ib(default=None)\n",
    "    \n",
    "    @property\n",
    "    def to_elsewhere(self):\n",
    "        \"\"\"True if the target of the Bundle is Elsewhere (outside the system\n",
    "        boundary).\"\"\"\n",
    "        return self.target is Elsewhere\n",
    "\n",
    "    @property\n",
    "    def from_elsewhere(self):\n",
    "        \"\"\"True if the source of the Bundle is Elsewhere (outside the system\n",
    "        boundary).\"\"\"\n",
    "        return self.source is Elsewhere"
   ]
  },
  {
   "cell_type": "code",
   "execution_count": 70,
   "metadata": {},
   "outputs": [
    {
     "ename": "NameError",
     "evalue": "name 'Ordering' is not defined",
     "output_type": "error",
     "traceback": [
      "\u001b[1;31m---------------------------------------------------------------------------\u001b[0m",
      "\u001b[1;31mNameError\u001b[0m                                 Traceback (most recent call last)",
      "\u001b[1;32m<ipython-input-70-e2198f5ff134>\u001b[0m in \u001b[0;36m<module>\u001b[1;34m\u001b[0m\n\u001b[0;32m      2\u001b[0m \u001b[0mpalette\u001b[0m \u001b[1;33m=\u001b[0m \u001b[1;33m{\u001b[0m\u001b[1;34m'1000'\u001b[0m\u001b[1;33m:\u001b[0m \u001b[1;34m'yellowgreen'\u001b[0m\u001b[1;33m,\u001b[0m \u001b[1;34m'2000'\u001b[0m\u001b[1;33m:\u001b[0m \u001b[1;34m'gold'\u001b[0m\u001b[1;33m}\u001b[0m\u001b[1;33m\u001b[0m\u001b[1;33m\u001b[0m\u001b[0m\n\u001b[0;32m      3\u001b[0m \u001b[1;33m\u001b[0m\u001b[0m\n\u001b[1;32m----> 4\u001b[1;33m \u001b[0msdd\u001b[0m \u001b[1;33m=\u001b[0m \u001b[0mSankeyDefinition\u001b[0m\u001b[1;33m(\u001b[0m\u001b[0mnodes\u001b[0m\u001b[1;33m,\u001b[0m \u001b[0mbundles\u001b[0m\u001b[1;33m,\u001b[0m \u001b[0mordering\u001b[0m\u001b[1;33m)\u001b[0m\u001b[1;33m\u001b[0m\u001b[1;33m\u001b[0m\u001b[0m\n\u001b[0m\u001b[0;32m      5\u001b[0m \u001b[1;33m\u001b[0m\u001b[0m\n\u001b[0;32m      6\u001b[0m \u001b[0mint_range\u001b[0m \u001b[1;33m=\u001b[0m \u001b[0mwidgets\u001b[0m\u001b[1;33m.\u001b[0m\u001b[0mIntSlider\u001b[0m\u001b[1;33m(\u001b[0m\u001b[0mvalue\u001b[0m\u001b[1;33m=\u001b[0m\u001b[1;36m0\u001b[0m\u001b[1;33m,\u001b[0m\u001b[0mmin\u001b[0m\u001b[1;33m=\u001b[0m\u001b[1;36m0\u001b[0m\u001b[1;33m,\u001b[0m\u001b[0mmax\u001b[0m\u001b[1;33m=\u001b[0m\u001b[1;36m1\u001b[0m\u001b[1;33m,\u001b[0m\u001b[0mstep\u001b[0m\u001b[1;33m=\u001b[0m\u001b[1;36m1\u001b[0m\u001b[1;33m)\u001b[0m\u001b[1;33m\u001b[0m\u001b[1;33m\u001b[0m\u001b[0m\n",
      "\u001b[1;32m<attrs generated init 08679781c03ab68801e90f6d1a8120ac9bf38025>\u001b[0m in \u001b[0;36m__init__\u001b[1;34m(self, nodes, bundles, ordering, flow_selection, flow_partition, time_partition)\u001b[0m\n\u001b[0;32m      3\u001b[0m     \u001b[0m_setattr\u001b[0m\u001b[1;33m(\u001b[0m\u001b[1;34m'nodes'\u001b[0m\u001b[1;33m,\u001b[0m \u001b[0mnodes\u001b[0m\u001b[1;33m)\u001b[0m\u001b[1;33m\u001b[0m\u001b[1;33m\u001b[0m\u001b[0m\n\u001b[0;32m      4\u001b[0m     \u001b[0m_setattr\u001b[0m\u001b[1;33m(\u001b[0m\u001b[1;34m'bundles'\u001b[0m\u001b[1;33m,\u001b[0m \u001b[0m__attr_converter_bundles\u001b[0m\u001b[1;33m(\u001b[0m\u001b[0mbundles\u001b[0m\u001b[1;33m)\u001b[0m\u001b[1;33m)\u001b[0m\u001b[1;33m\u001b[0m\u001b[1;33m\u001b[0m\u001b[0m\n\u001b[1;32m----> 5\u001b[1;33m     \u001b[0m_setattr\u001b[0m\u001b[1;33m(\u001b[0m\u001b[1;34m'ordering'\u001b[0m\u001b[1;33m,\u001b[0m \u001b[0m__attr_converter_ordering\u001b[0m\u001b[1;33m(\u001b[0m\u001b[0mordering\u001b[0m\u001b[1;33m)\u001b[0m\u001b[1;33m)\u001b[0m\u001b[1;33m\u001b[0m\u001b[1;33m\u001b[0m\u001b[0m\n\u001b[0m\u001b[0;32m      6\u001b[0m     \u001b[0m_setattr\u001b[0m\u001b[1;33m(\u001b[0m\u001b[1;34m'flow_selection'\u001b[0m\u001b[1;33m,\u001b[0m \u001b[0mflow_selection\u001b[0m\u001b[1;33m)\u001b[0m\u001b[1;33m\u001b[0m\u001b[1;33m\u001b[0m\u001b[0m\n\u001b[0;32m      7\u001b[0m     \u001b[0m_setattr\u001b[0m\u001b[1;33m(\u001b[0m\u001b[1;34m'flow_partition'\u001b[0m\u001b[1;33m,\u001b[0m \u001b[0mflow_partition\u001b[0m\u001b[1;33m)\u001b[0m\u001b[1;33m\u001b[0m\u001b[1;33m\u001b[0m\u001b[0m\n",
      "\u001b[1;32m<ipython-input-61-4ea0ef13ffbb>\u001b[0m in \u001b[0;36m_convert_ordering\u001b[1;34m(ordering)\u001b[0m\n\u001b[0;32m      1\u001b[0m \u001b[1;32mdef\u001b[0m \u001b[0m_convert_ordering\u001b[0m\u001b[1;33m(\u001b[0m\u001b[0mordering\u001b[0m\u001b[1;33m)\u001b[0m\u001b[1;33m:\u001b[0m\u001b[1;33m\u001b[0m\u001b[1;33m\u001b[0m\u001b[0m\n\u001b[1;32m----> 2\u001b[1;33m     \u001b[1;32mif\u001b[0m \u001b[0misinstance\u001b[0m\u001b[1;33m(\u001b[0m\u001b[0mordering\u001b[0m\u001b[1;33m,\u001b[0m \u001b[0mOrdering\u001b[0m\u001b[1;33m)\u001b[0m\u001b[1;33m:\u001b[0m\u001b[1;33m\u001b[0m\u001b[1;33m\u001b[0m\u001b[0m\n\u001b[0m\u001b[0;32m      3\u001b[0m         \u001b[1;32mreturn\u001b[0m \u001b[0mordering\u001b[0m\u001b[1;33m\u001b[0m\u001b[1;33m\u001b[0m\u001b[0m\n\u001b[0;32m      4\u001b[0m     \u001b[1;32melse\u001b[0m\u001b[1;33m:\u001b[0m\u001b[1;33m\u001b[0m\u001b[1;33m\u001b[0m\u001b[0m\n\u001b[0;32m      5\u001b[0m         \u001b[1;32mreturn\u001b[0m \u001b[0mOrdering\u001b[0m\u001b[1;33m(\u001b[0m\u001b[0mordering\u001b[0m\u001b[1;33m)\u001b[0m\u001b[1;33m\u001b[0m\u001b[1;33m\u001b[0m\u001b[0m\n",
      "\u001b[1;31mNameError\u001b[0m: name 'Ordering' is not defined"
     ]
    }
   ],
   "source": [
    "#series_partition = Partition.Simple('series', ['1000','2000'])\n",
    "palette = {'1000': 'yellowgreen', '2000': 'gold'}\n",
    "\n",
    "sdd = SankeyDefinition(nodes, bundles, ordering)\n",
    "\n",
    "int_range = widgets.IntSlider(value=0,min=0,max=1,step=1)\n",
    "output2 = widgets.Output()\n",
    "\n",
    "display(int_range, output2)\n",
    "\n",
    "def on_value_change(x):\n",
    "    with output2:\n",
    "        number = x['new']\n",
    "        clear_output()\n",
    "        p = weave(sdd, dataset, measures='value year{}'.format(number), palette=palette).to_widget(width=570, height=550, margins=dict(left=100, right=100))\n",
    "        display(p)\n",
    "        \n",
    "int_range.observe(on_value_change, 'value')"
   ]
  },
  {
   "cell_type": "code",
   "execution_count": null,
   "metadata": {},
   "outputs": [],
   "source": []
  }
 ],
 "metadata": {
  "kernelspec": {
   "display_name": "Python 3",
   "language": "python",
   "name": "python3"
  },
  "language_info": {
   "codemirror_mode": {
    "name": "ipython",
    "version": 3
   },
   "file_extension": ".py",
   "mimetype": "text/x-python",
   "name": "python",
   "nbconvert_exporter": "python",
   "pygments_lexer": "ipython3",
   "version": "3.7.3"
  }
 },
 "nbformat": 4,
 "nbformat_minor": 2
}
